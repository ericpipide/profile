{
 "cells": [
  {
   "cell_type": "code",
   "execution_count": 2,
   "metadata": {},
   "outputs": [],
   "source": [
    "import platform,os,wmi\n",
    "import psutil as ps"
   ]
  },
  {
   "cell_type": "code",
   "execution_count": 8,
   "metadata": {},
   "outputs": [
    {
     "name": "stdout",
     "output_type": "stream",
     "text": [
      "sdiskio(read_count=747127, write_count=509060, read_bytes=16042387968, write_bytes=8058874880, read_time=141, write_time=123)\n"
     ]
    }
   ],
   "source": [
    "print(ps.disk_io_counters())#硬碟讀寫資訊"
   ]
  },
  {
   "cell_type": "code",
   "execution_count": null,
   "metadata": {},
   "outputs": [],
   "source": [
    "print(ps.disk_partitions())#擁有的硬碟數量\n",
    "print(ps.disk_usage(r'c:')) #指定硬碟資訊\n",
    "print(ps.disk_io_counters())#硬碟讀寫資訊"
   ]
  }
 ],
 "metadata": {
  "interpreter": {
   "hash": "d7b41d683eb1f7b39cfce58ad5f793896991eac3bc0c22892b83a33bf069e65f"
  },
  "kernelspec": {
   "display_name": "Python 3.9.7 ('base')",
   "language": "python",
   "name": "python3"
  },
  "language_info": {
   "codemirror_mode": {
    "name": "ipython",
    "version": 3
   },
   "file_extension": ".py",
   "mimetype": "text/x-python",
   "name": "python",
   "nbconvert_exporter": "python",
   "pygments_lexer": "ipython3",
   "version": "3.9.7"
  },
  "orig_nbformat": 4
 },
 "nbformat": 4,
 "nbformat_minor": 2
}
