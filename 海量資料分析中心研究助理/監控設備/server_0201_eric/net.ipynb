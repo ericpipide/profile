{
 "cells": [
  {
   "cell_type": "code",
   "execution_count": 1,
   "metadata": {},
   "outputs": [],
   "source": [
    "import platform,os,time\n",
    "import psutil as ps"
   ]
  },
  {
   "cell_type": "code",
   "execution_count": 36,
   "metadata": {},
   "outputs": [
    {
     "name": "stdout",
     "output_type": "stream",
     "text": [
      "snetio(bytes_sent=12477633, bytes_recv=198757159, packets_sent=46173, packets_recv=153715, errin=0, errout=0, dropin=0, dropout=0)\n",
      "傳送資料位元組: 12477633 bytes\n",
      "接收資料位元組: 198757159 bytes\n",
      "snetio(bytes_sent=0, bytes_recv=0, packets_sent=0, packets_recv=0, errin=0, errout=0, dropin=0, dropout=0)\n",
      "snetio(bytes_sent=0, bytes_recv=0, packets_sent=0, packets_recv=0, errin=0, errout=0, dropin=0, dropout=0)\n",
      "snetio(bytes_sent=0, bytes_recv=0, packets_sent=0, packets_recv=0, errin=0, errout=0, dropin=0, dropout=0)\n",
      "snetio(bytes_sent=0, bytes_recv=0, packets_sent=0, packets_recv=0, errin=0, errout=0, dropin=0, dropout=0)\n",
      "snetio(bytes_sent=0, bytes_recv=0, packets_sent=0, packets_recv=0, errin=0, errout=0, dropin=0, dropout=0)\n",
      "snetio(bytes_sent=12477688, bytes_recv=198757159, packets_sent=46174, packets_recv=153715, errin=0, errout=0, dropin=0, dropout=0)\n",
      "508kb/s\n",
      "snetio(bytes_sent=0, bytes_recv=0, packets_sent=0, packets_recv=0, errin=0, errout=0, dropin=0, dropout=0)\n",
      "snetio(bytes_sent=0, bytes_recv=0, packets_sent=0, packets_recv=0, errin=0, errout=0, dropin=0, dropout=0)\n"
     ]
    }
   ],
   "source": [
    "print(ps.net_io_counters())\n",
    "# 傳送資料包\n",
    "print(\"傳送資料位元組:\", ps.net_io_counters().bytes_sent,\"bytes\")\n",
    "#接收資料包\n",
    "print(\"接收資料位元組:\",ps.net_io_counters().bytes_recv,\"bytes\")\n",
    "# 輸出網路每個介面資訊\n",
    "net_counter = ps.net_io_counters(pernic=True)\n",
    "for i in net_counter:\n",
    "    print(net_counter[i])\n",
    "    if net_counter[i].bytes_sent >= 1:\n",
    "        s1 = ps.net_io_counters(pernic=True)[i]\n",
    "        time.sleep(2)\n",
    "        s2 = ps.net_io_counters(pernic=True)[i]\n",
    "        result = s2.bytes_recv - s1.bytes_recv\n",
    "        reslut = float(result/1024)\n",
    "        print(str('%d' % (result)) + 'kb/s')\n",
    "    #print(\"網路卡：\"+i+\" ,網路卡資訊：\",net_counter[i])                                                                                                                                                                                                                                                                                                                                                                                                                                                                                                                                                             "
   ]
  },
  {
   "cell_type": "code",
   "execution_count": 14,
   "metadata": {},
   "outputs": [],
   "source": [
    "a = net_counter['Wi-Fi']"
   ]
  },
  {
   "cell_type": "code",
   "execution_count": 13,
   "metadata": {},
   "outputs": [
    {
     "name": "stdout",
     "output_type": "stream",
     "text": [
      "<class 'psutil._common.snetio'>\n"
     ]
    }
   ],
   "source": [
    "print(type(a))"
   ]
  },
  {
   "cell_type": "code",
   "execution_count": 21,
   "metadata": {},
   "outputs": [
    {
     "data": {
      "text/plain": [
       "10630718"
      ]
     },
     "execution_count": 21,
     "metadata": {},
     "output_type": "execute_result"
    }
   ],
   "source": [
    "a.bytes_sent"
   ]
  },
  {
   "cell_type": "code",
   "execution_count": 18,
   "metadata": {},
   "outputs": [
    {
     "name": "stdout",
     "output_type": "stream",
     "text": [
      "4kb/s\n"
     ]
    }
   ],
   "source": [
    "s1 = ps.net_io_counters(pernic=True)['Wi-Fi']\n",
    "time.sleep(1)\n",
    "s2 = ps.net_io_counters(pernic=True)['Wi-Fi']\n",
    "result = s2.bytes_recv - s1.bytes_recv\n",
    "print(str('%d' % (result / 1024)) + 'kb/s')\n",
    "#實時網速"
   ]
  }
 ],
 "metadata": {
  "interpreter": {
   "hash": "d7b41d683eb1f7b39cfce58ad5f793896991eac3bc0c22892b83a33bf069e65f"
  },
  "kernelspec": {
   "display_name": "Python 3.9.7 ('base')",
   "language": "python",
   "name": "python3"
  },
  "language_info": {
   "codemirror_mode": {
    "name": "ipython",
    "version": 3
   },
   "file_extension": ".py",
   "mimetype": "text/x-python",
   "name": "python",
   "nbconvert_exporter": "python",
   "pygments_lexer": "ipython3",
   "version": "3.9.7"
  },
  "orig_nbformat": 4
 },
 "nbformat": 4,
 "nbformat_minor": 2
}
